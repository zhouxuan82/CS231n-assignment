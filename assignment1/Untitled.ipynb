{
 "cells": [
  {
   "cell_type": "code",
   "execution_count": 20,
   "metadata": {
    "scrolled": true
   },
   "outputs": [
    {
     "name": "stdout",
     "output_type": "stream",
     "text": [
      "[[ 1  2  3  4]\n",
      " [ 5  6  7  8]\n",
      " [ 9 10 11 12]\n",
      " [13 14 15 16]\n",
      " [17 18 19 20]] [[1. 1. 1. 1. 1. 1. 1. 1. 1. 1.]\n",
      " [1. 1. 1. 1. 1. 1. 1. 1. 1. 1.]\n",
      " [1. 1. 1. 1. 1. 1. 1. 1. 1. 1.]\n",
      " [1. 1. 1. 1. 1. 1. 1. 1. 1. 1.]] [0. 0. 0. 0. 0. 0. 0. 0. 0. 0.]\n"
     ]
    },
    {
     "data": {
      "text/plain": [
       "array([[ 1.,  1.,  2.,  3.,  4.],\n",
       "       [ 1.,  5.,  6.,  7.,  8.],\n",
       "       [ 1.,  9., 10., 11., 12.],\n",
       "       [ 1., 13., 14., 15., 16.],\n",
       "       [ 1., 17., 18., 19., 20.]])"
      ]
     },
     "execution_count": 20,
     "metadata": {},
     "output_type": "execute_result"
    }
   ],
   "source": [
    "import numpy as np\n",
    "\n",
    "X = np.array([[1,2,3,4],[5,6,7,8],[9,10,11,12],[13,14,15,16],[17,18,19,20]]) # 5 x 4\n",
    "\n",
    "b = np.zeros([10])\n",
    "w = np.ones([4,10])\n",
    "a = X[0]\n",
    "\n",
    "\n",
    "\n",
    "print(X,w,b)\n",
    "\n",
    "# X = np.c_(np.ones([5,1]), X)\n",
    "a = np.array([[1,2,3],[4,5,6],[7,8,9]])\n",
    "b = np.ones(3)\n",
    "c = np.array([[1,2,3,1],[4,5,6,1],[7,8,9,1]])\n",
    "np.c_[np.ones([5,1]), X]\n",
    "\n",
    "# print(X,w,b)"
   ]
  },
  {
   "cell_type": "code",
   "execution_count": 20,
   "metadata": {},
   "outputs": [
    {
     "name": "stdout",
     "output_type": "stream",
     "text": [
      "lr 1.000000e+00 reg 2.000000e+00 train accuracy: 12 val accuracy: 13\n",
      "lr 3.000000e+00 reg 4.000000e+00 train accuracy: 5 val accuracy: 6\n"
     ]
    }
   ],
   "source": [
    "import numpy as np\n",
    "\n",
    "results = {}\n",
    "results[(1,2)] = (12,13)\n",
    "results[(3,4)] = (5,6)\n",
    "for lr, reg in sorted(results):\n",
    "    train_accuracy, val_accuracy = results[(lr, reg)]\n",
    "    print('lr %e reg %e train accuracy: %d val accuracy: %d' % (\n",
    "                lr, reg, train_accuracy, val_accuracy))"
   ]
  },
  {
   "cell_type": "code",
   "execution_count": null,
   "metadata": {},
   "outputs": [],
   "source": []
  },
  {
   "cell_type": "code",
   "execution_count": null,
   "metadata": {},
   "outputs": [],
   "source": []
  },
  {
   "cell_type": "code",
   "execution_count": null,
   "metadata": {},
   "outputs": [],
   "source": []
  }
 ],
 "metadata": {
  "kernelspec": {
   "display_name": "Python 3",
   "language": "python",
   "name": "python3"
  },
  "language_info": {
   "codemirror_mode": {
    "name": "ipython",
    "version": 3
   },
   "file_extension": ".py",
   "mimetype": "text/x-python",
   "name": "python",
   "nbconvert_exporter": "python",
   "pygments_lexer": "ipython3",
   "version": "3.6.7"
  }
 },
 "nbformat": 4,
 "nbformat_minor": 2
}
