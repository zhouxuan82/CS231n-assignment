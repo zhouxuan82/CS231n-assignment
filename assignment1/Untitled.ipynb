{
 "cells": [
  {
   "cell_type": "code",
   "execution_count": null,
   "metadata": {
    "scrolled": true
   },
   "outputs": [],
   "source": [
    "import numpy as np\n",
    "\n",
    "X = np.array([[1,2,3,4,5],[6,7,8,9,0]]) # 2 x 5\n",
    "\n",
    "y = np.array([2,1]) # 2\n",
    "\n",
    "dW = np.array([[1,2,3],[11,12,13],[21,22,23],[31,32,33],[41,42,43]]) # 5 x 10\n",
    "\n",
    "print(X[1].T)\n",
    "print(dW[:, y[1]])\n"
   ]
  },
  {
   "cell_type": "code",
   "execution_count": 20,
   "metadata": {},
   "outputs": [
    {
     "name": "stdout",
     "output_type": "stream",
     "text": [
      "lr 1.000000e+00 reg 2.000000e+00 train accuracy: 12 val accuracy: 13\n",
      "lr 3.000000e+00 reg 4.000000e+00 train accuracy: 5 val accuracy: 6\n"
     ]
    }
   ],
   "source": [
    "import numpy as np\n",
    "\n",
    "results = {}\n",
    "results[(1,2)] = (12,13)\n",
    "results[(3,4)] = (5,6)\n",
    "for lr, reg in sorted(results):\n",
    "    train_accuracy, val_accuracy = results[(lr, reg)]\n",
    "    print('lr %e reg %e train accuracy: %d val accuracy: %d' % (\n",
    "                lr, reg, train_accuracy, val_accuracy))"
   ]
  },
  {
   "cell_type": "code",
   "execution_count": null,
   "metadata": {},
   "outputs": [],
   "source": []
  },
  {
   "cell_type": "code",
   "execution_count": null,
   "metadata": {},
   "outputs": [],
   "source": []
  },
  {
   "cell_type": "code",
   "execution_count": null,
   "metadata": {},
   "outputs": [],
   "source": []
  }
 ],
 "metadata": {
  "kernelspec": {
   "display_name": "Python 3",
   "language": "python",
   "name": "python3"
  },
  "language_info": {
   "codemirror_mode": {
    "name": "ipython",
    "version": 3
   },
   "file_extension": ".py",
   "mimetype": "text/x-python",
   "name": "python",
   "nbconvert_exporter": "python",
   "pygments_lexer": "ipython3",
   "version": "3.6.7"
  }
 },
 "nbformat": 4,
 "nbformat_minor": 2
}
